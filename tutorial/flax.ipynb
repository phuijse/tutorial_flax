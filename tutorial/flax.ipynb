{
 "cells": [
  {
   "cell_type": "markdown",
   "id": "04dd3b67",
   "metadata": {},
   "source": [
    "# Mi primera red neuronal basada en JAX\n",
    "\n",
    "\n",
    "Para definir y entrenar redes neuronales artificiales con JAX utilizaremos dos librerías:\n",
    "\n",
    "[Flax](https://flax.readthedocs.io/en/latest/) es una librería de redes neuronales artificiales cuyo foco es la flexibilidad y que utiliza JAX como backend de cómputo, Además tiene interoperabilidad con la librería de programación probabilística *NumPyro*. \n",
    "\n",
    "> Flax provee `flax.linen`, una API con primitivas para diseñar redes neuronales (similar a `torch.nn`)\n",
    "\n",
    "[optax](https://github.com/deepmind/optax) es una librería de optimización numérica para modelos paramétricos basada en JAX. Esta librería provee los algoritmos basados en gradiente descedente que se ocupan típicamente para entrenar redes neuronales artificiales.\n",
    "\n",
    "## Instalación\n",
    "\n",
    "Instala utilizando pip:\n",
    "\n",
    "    pip install flax\n",
    "    pip install optax\n"
   ]
  },
  {
   "cell_type": "code",
   "execution_count": null,
   "id": "d519ed8d",
   "metadata": {},
   "outputs": [],
   "source": [
    "import flax.linen as nn\n",
    "import optax"
   ]
  },
  {
   "cell_type": "markdown",
   "id": "0d67284c",
   "metadata": {},
   "source": [
    "## Definiendo un modelo en `flax`\n",
    "\n",
    "Un modelo en `flax` es una clase de Python que hereda de `flax.linen.Module`. Existen dos formas de escribir un modelo: explicita o *inline*\n",
    "\n",
    "En la forma explícitala clase que representa el modelo debe implementar:\n",
    "\n",
    "- Un método `__call__` que recibe los datos de entrada y retorna una predicción\n",
    "- Un método `__setup__` que declara las variables y submódulos que componen el modelo \n",
    "\n",
    "En la forma *inline* sólo se define `__call__` con un decorador `nn.compact`. Por ejemplo un regresor logístico \n",
    "\n",
    "$$\n",
    "y = \\text{sigmoid}\\left(\\sum_j w_j x_j + b \\right)\n",
    "$$\n",
    "\n",
    "se implementaría como:"
   ]
  },
  {
   "cell_type": "code",
   "execution_count": 4,
   "id": "72aa7b07",
   "metadata": {},
   "outputs": [
    {
     "data": {
      "text/plain": [
       "LogisticRegressor()"
      ]
     },
     "execution_count": 4,
     "metadata": {},
     "output_type": "execute_result"
    }
   ],
   "source": [
    "class LogisticRegressor(nn.Module):\n",
    "    \n",
    "    @nn.compact\n",
    "    def __call__(self, x):\n",
    "        return nn.sigmoid(nn.Dense(1)(x))\n",
    "    \n",
    "LogisticRegressor()"
   ]
  },
  {
   "cell_type": "markdown",
   "id": "8daaa8c3",
   "metadata": {},
   "source": [
    "> El decorador se hace cargo de registrar la llamada a los módulos como `nn.Dense`. \n",
    "\n",
    "Implementemos ahora el siguiente modelo tipo *multi layer perceptron* con una capa oculta:\n",
    "\n",
    "$$\n",
    "y = \\left(\\sum_j w_j \\text{ReLU}\\left( \\sum_i w_ij x_i + b_i\\right) + b \\right)\n",
    "$$\n"
   ]
  },
  {
   "cell_type": "code",
   "execution_count": 12,
   "id": "7aefd50f",
   "metadata": {},
   "outputs": [
    {
     "data": {
      "text/plain": [
       "MLP_singlehidden(\n",
       "    # attributes\n",
       "    hidden_neurons = 10\n",
       "    output_neurons = 2\n",
       ")"
      ]
     },
     "execution_count": 12,
     "metadata": {},
     "output_type": "execute_result"
    }
   ],
   "source": [
    "class MLP_singlehidden(nn.Module):\n",
    "    \n",
    "    hidden_neurons: int\n",
    "    output_neurons: int\n",
    "        \n",
    "    @nn.compact\n",
    "    def __call__(self, x):\n",
    "        z = nn.relu(nn.Dense(self.hidden_neurons)(x))\n",
    "        return nn.Dense(self.output_neurons)(z)\n",
    "   \n",
    "MLP_singlehidden(10, 2)"
   ]
  },
  {
   "cell_type": "markdown",
   "id": "8c9aef9c",
   "metadata": {},
   "source": [
    "Podemos pasar argumentos al momento de construir el objeto definiendolos dentro de la clase con la notación\n",
    "\n",
    "    nombre_variable : tipo_variable\n",
    "    \n",
    ":::{note}\n",
    "\n",
    "`flax` implementa clases de tipo `dataclass` (introducidas en Python 3.7)\n",
    "\n",
    ":::\n",
    "\n",
    "Veamos ahora como se implementaría un modelo MLP con \n",
    "\n",
    "- número arbitrario de capas ocultas\n",
    "- función de activación a elección (por defecto relu)"
   ]
  },
  {
   "cell_type": "code",
   "execution_count": 14,
   "id": "eb7f3332",
   "metadata": {},
   "outputs": [
    {
     "data": {
      "text/plain": [
       "MLP(\n",
       "    # attributes\n",
       "    neurons_per_layer = [10, 5, 3]\n",
       "    activation = relu\n",
       ")"
      ]
     },
     "execution_count": 14,
     "metadata": {},
     "output_type": "execute_result"
    }
   ],
   "source": [
    "from typing import Sequence, Callable\n",
    "\n",
    "class MLP(nn.Module):\n",
    "    neurons_per_layer: Sequence[int]\n",
    "    activation: Callable = nn.relu\n",
    "    \n",
    "    @nn.compact\n",
    "    def __call__(self, x):\n",
    "        for k, neurons in enumerate(self.neurons_per_layer):\n",
    "            x = nn.Dense(neurons)(x)\n",
    "            if k != len(self.hidden_neurons) - 1:\n",
    "                x = self.activation(x)\n",
    "        return x\n",
    "    \n",
    "MLP(neurons_per_layer=[10, 5, 3])"
   ]
  },
  {
   "cell_type": "markdown",
   "id": "8a78a9e2",
   "metadata": {},
   "source": [
    "Some useful submodules of nn by category are\n",
    "\n",
    "    Linear and Convolutional layers\n",
    "\n",
    "    Pooling layers\n",
    "\n",
    "    Activation functions\n",
    "\n",
    "    Recurrent layers\n",
    "\n",
    "    Batch normalization layers\n"
   ]
  },
  {
   "cell_type": "code",
   "execution_count": null,
   "id": "454a20ac",
   "metadata": {},
   "outputs": [],
   "source": []
  }
 ],
 "metadata": {
  "kernelspec": {
   "display_name": "Python 3 (ipykernel)",
   "language": "python",
   "name": "python3"
  },
  "language_info": {
   "codemirror_mode": {
    "name": "ipython",
    "version": 3
   },
   "file_extension": ".py",
   "mimetype": "text/x-python",
   "name": "python",
   "nbconvert_exporter": "python",
   "pygments_lexer": "ipython3",
   "version": "3.10.4"
  }
 },
 "nbformat": 4,
 "nbformat_minor": 5
}
