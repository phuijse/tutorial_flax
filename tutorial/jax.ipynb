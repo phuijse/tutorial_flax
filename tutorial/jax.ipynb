{
 "cells": [
  {
   "cell_type": "markdown",
   "id": "7d8d1028",
   "metadata": {},
   "source": [
    "# Introducción a JAX"
   ]
  },
  {
   "cell_type": "markdown",
   "id": "9e8222f5",
   "metadata": {},
   "source": [
    "Qué es JAX y XLA"
   ]
  },
  {
   "cell_type": "markdown",
   "id": "5751bea3",
   "metadata": {},
   "source": [
    "## Instalación\n",
    "\n",
    "JAX soporta Linux y macOS por defecto. Hay soporte limitado y no oficial para Windows, [pero requiere compilación manual de las fuentes](https://jax.readthedocs.io/en/latest/developer.html#additional-notes-for-building-jaxlib-from-source-on-windows)\n",
    "\n",
    "Para instalar JAX lo más simple es utilizar el manejador de paquetas [conda](https://docs.conda.io/en/latest/miniconda.html). Para instalar JAX con soporte GPU, crea un ambiente de conda, actívalo y ejecuta el siguiente comando:\n",
    "\n",
    "    conda install jax cuda-nvcc -c conda-forge -c nvidia\n",
    "    \n",
    "Si sólo vas a usar arquitecturas CPU puedes hacer una instalación más ligera con:\n",
    "\n",
    "    conda install jax -c conda-forge\n",
    "    \n",
    "JAX también puede instalarse con pip (distintos sabores):\n",
    "\n",
    "    pip install \"jax[cpu]\"\n",
    "    pip install \"jax[cuda]\" -f https://storage.googleapis.com/jax-releases/jax_cuda_releases.html\n",
    "    pip install \"jax[tpu]>=0.2.16\" -f https://storage.googleapis.com/jax-releases/libtpu_releases.html"
   ]
  },
  {
   "cell_type": "markdown",
   "id": "acde8659",
   "metadata": {},
   "source": [
    "## Uso básico"
   ]
  },
  {
   "cell_type": "code",
   "execution_count": null,
   "id": "ebfbec4b",
   "metadata": {},
   "outputs": [],
   "source": [
    "import jax"
   ]
  }
 ],
 "metadata": {
  "kernelspec": {
   "display_name": "Python 3 (ipykernel)",
   "language": "python",
   "name": "python3"
  },
  "language_info": {
   "codemirror_mode": {
    "name": "ipython",
    "version": 3
   },
   "file_extension": ".py",
   "mimetype": "text/x-python",
   "name": "python",
   "nbconvert_exporter": "python",
   "pygments_lexer": "ipython3",
   "version": "3.10.4"
  }
 },
 "nbformat": 4,
 "nbformat_minor": 5
}
